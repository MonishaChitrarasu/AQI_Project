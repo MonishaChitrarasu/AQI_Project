{
 "cells": [
  {
   "cell_type": "code",
   "execution_count": 1,
   "id": "bdae6a2b",
   "metadata": {},
   "outputs": [
    {
     "data": {
      "text/html": [
       "<div>\n",
       "<style scoped>\n",
       "    .dataframe tbody tr th:only-of-type {\n",
       "        vertical-align: middle;\n",
       "    }\n",
       "\n",
       "    .dataframe tbody tr th {\n",
       "        vertical-align: top;\n",
       "    }\n",
       "\n",
       "    .dataframe thead th {\n",
       "        text-align: right;\n",
       "    }\n",
       "</style>\n",
       "<table border=\"1\" class=\"dataframe\">\n",
       "  <thead>\n",
       "    <tr style=\"text-align: right;\">\n",
       "      <th></th>\n",
       "      <th>PM2.5</th>\n",
       "      <th>PM10</th>\n",
       "      <th>NO</th>\n",
       "      <th>NO2</th>\n",
       "      <th>NOx</th>\n",
       "      <th>NH3</th>\n",
       "      <th>CO</th>\n",
       "      <th>SO2</th>\n",
       "      <th>O3</th>\n",
       "      <th>Benzene</th>\n",
       "      <th>...</th>\n",
       "      <th>Date_2020-06-22</th>\n",
       "      <th>Date_2020-06-23</th>\n",
       "      <th>Date_2020-06-24</th>\n",
       "      <th>Date_2020-06-25</th>\n",
       "      <th>Date_2020-06-26</th>\n",
       "      <th>Date_2020-06-27</th>\n",
       "      <th>Date_2020-06-28</th>\n",
       "      <th>Date_2020-06-29</th>\n",
       "      <th>Date_2020-06-30</th>\n",
       "      <th>Date_2020-07-01</th>\n",
       "    </tr>\n",
       "  </thead>\n",
       "  <tbody>\n",
       "    <tr>\n",
       "      <th>0</th>\n",
       "      <td>77.394417</td>\n",
       "      <td>149.388739</td>\n",
       "      <td>16.30</td>\n",
       "      <td>15.39</td>\n",
       "      <td>22.68</td>\n",
       "      <td>4.59</td>\n",
       "      <td>1.17</td>\n",
       "      <td>9.20</td>\n",
       "      <td>11.35</td>\n",
       "      <td>0.170000</td>\n",
       "      <td>...</td>\n",
       "      <td>0</td>\n",
       "      <td>0</td>\n",
       "      <td>0</td>\n",
       "      <td>0</td>\n",
       "      <td>0</td>\n",
       "      <td>0</td>\n",
       "      <td>0</td>\n",
       "      <td>0</td>\n",
       "      <td>0</td>\n",
       "      <td>0</td>\n",
       "    </tr>\n",
       "    <tr>\n",
       "      <th>1</th>\n",
       "      <td>77.394417</td>\n",
       "      <td>149.388739</td>\n",
       "      <td>16.49</td>\n",
       "      <td>13.42</td>\n",
       "      <td>23.09</td>\n",
       "      <td>7.83</td>\n",
       "      <td>1.23</td>\n",
       "      <td>8.61</td>\n",
       "      <td>9.16</td>\n",
       "      <td>0.130000</td>\n",
       "      <td>...</td>\n",
       "      <td>0</td>\n",
       "      <td>0</td>\n",
       "      <td>0</td>\n",
       "      <td>0</td>\n",
       "      <td>0</td>\n",
       "      <td>0</td>\n",
       "      <td>0</td>\n",
       "      <td>0</td>\n",
       "      <td>0</td>\n",
       "      <td>0</td>\n",
       "    </tr>\n",
       "    <tr>\n",
       "      <th>2</th>\n",
       "      <td>77.394417</td>\n",
       "      <td>149.388739</td>\n",
       "      <td>9.72</td>\n",
       "      <td>19.56</td>\n",
       "      <td>9.99</td>\n",
       "      <td>4.63</td>\n",
       "      <td>0.77</td>\n",
       "      <td>20.56</td>\n",
       "      <td>13.45</td>\n",
       "      <td>0.030000</td>\n",
       "      <td>...</td>\n",
       "      <td>0</td>\n",
       "      <td>0</td>\n",
       "      <td>0</td>\n",
       "      <td>0</td>\n",
       "      <td>0</td>\n",
       "      <td>0</td>\n",
       "      <td>0</td>\n",
       "      <td>0</td>\n",
       "      <td>0</td>\n",
       "      <td>0</td>\n",
       "    </tr>\n",
       "    <tr>\n",
       "      <th>3</th>\n",
       "      <td>77.394417</td>\n",
       "      <td>149.388739</td>\n",
       "      <td>9.60</td>\n",
       "      <td>16.20</td>\n",
       "      <td>11.71</td>\n",
       "      <td>5.23</td>\n",
       "      <td>1.00</td>\n",
       "      <td>20.56</td>\n",
       "      <td>10.33</td>\n",
       "      <td>2.120333</td>\n",
       "      <td>...</td>\n",
       "      <td>0</td>\n",
       "      <td>0</td>\n",
       "      <td>0</td>\n",
       "      <td>0</td>\n",
       "      <td>0</td>\n",
       "      <td>0</td>\n",
       "      <td>0</td>\n",
       "      <td>0</td>\n",
       "      <td>0</td>\n",
       "      <td>0</td>\n",
       "    </tr>\n",
       "    <tr>\n",
       "      <th>4</th>\n",
       "      <td>77.394417</td>\n",
       "      <td>149.388739</td>\n",
       "      <td>9.16</td>\n",
       "      <td>16.30</td>\n",
       "      <td>12.94</td>\n",
       "      <td>5.50</td>\n",
       "      <td>0.90</td>\n",
       "      <td>16.60</td>\n",
       "      <td>9.36</td>\n",
       "      <td>2.120333</td>\n",
       "      <td>...</td>\n",
       "      <td>0</td>\n",
       "      <td>0</td>\n",
       "      <td>0</td>\n",
       "      <td>0</td>\n",
       "      <td>0</td>\n",
       "      <td>0</td>\n",
       "      <td>0</td>\n",
       "      <td>0</td>\n",
       "      <td>0</td>\n",
       "      <td>0</td>\n",
       "    </tr>\n",
       "  </tbody>\n",
       "</table>\n",
       "<p>5 rows × 2021 columns</p>\n",
       "</div>"
      ],
      "text/plain": [
       "       PM2.5        PM10     NO    NO2    NOx   NH3    CO    SO2     O3  \\\n",
       "0  77.394417  149.388739  16.30  15.39  22.68  4.59  1.17   9.20  11.35   \n",
       "1  77.394417  149.388739  16.49  13.42  23.09  7.83  1.23   8.61   9.16   \n",
       "2  77.394417  149.388739   9.72  19.56   9.99  4.63  0.77  20.56  13.45   \n",
       "3  77.394417  149.388739   9.60  16.20  11.71  5.23  1.00  20.56  10.33   \n",
       "4  77.394417  149.388739   9.16  16.30  12.94  5.50  0.90  16.60   9.36   \n",
       "\n",
       "    Benzene  ...  Date_2020-06-22  Date_2020-06-23  Date_2020-06-24  \\\n",
       "0  0.170000  ...                0                0                0   \n",
       "1  0.130000  ...                0                0                0   \n",
       "2  0.030000  ...                0                0                0   \n",
       "3  2.120333  ...                0                0                0   \n",
       "4  2.120333  ...                0                0                0   \n",
       "\n",
       "   Date_2020-06-25  Date_2020-06-26  Date_2020-06-27  Date_2020-06-28  \\\n",
       "0                0                0                0                0   \n",
       "1                0                0                0                0   \n",
       "2                0                0                0                0   \n",
       "3                0                0                0                0   \n",
       "4                0                0                0                0   \n",
       "\n",
       "   Date_2020-06-29  Date_2020-06-30  Date_2020-07-01  \n",
       "0                0                0                0  \n",
       "1                0                0                0  \n",
       "2                0                0                0  \n",
       "3                0                0                0  \n",
       "4                0                0                0  \n",
       "\n",
       "[5 rows x 2021 columns]"
      ]
     },
     "execution_count": 1,
     "metadata": {},
     "output_type": "execute_result"
    }
   ],
   "source": [
    "#importing the Libraies\n",
    "import numpy as np\n",
    "import matplotlib.pyplot as plt\n",
    "import pandas as pd\n",
    "# Reading the Dataset\n",
    "dataset = pd.read_csv('Airmean_Chennai.csv')\n",
    "dataset=pd.get_dummies(dataset,drop_first=True)\n",
    "dataset.head(5)"
   ]
  },
  {
   "cell_type": "code",
   "execution_count": 2,
   "id": "98203169",
   "metadata": {},
   "outputs": [],
   "source": [
    "indep=dataset[['PM2.5', 'PM10', 'NO','NO2', 'NOx', 'NH3', 'CO', 'SO2', 'O3']]\n",
    "dep=dataset['AQI']"
   ]
  },
  {
   "cell_type": "code",
   "execution_count": 3,
   "id": "23b81a0d",
   "metadata": {},
   "outputs": [],
   "source": [
    "#split into training set and test\n",
    "from sklearn.model_selection import train_test_split\n",
    "X_train, X_test, y_train, y_test = train_test_split(indep, dep, test_size = 1/3, random_state = 0)\n"
   ]
  },
  {
   "cell_type": "code",
   "execution_count": 4,
   "id": "ca03cdd2",
   "metadata": {},
   "outputs": [],
   "source": [
    "from sklearn.preprocessing import StandardScaler\n",
    "sc = StandardScaler()\n",
    "X_train = sc.fit_transform(X_train)\n",
    "X_test = sc.transform(X_test)"
   ]
  },
  {
   "cell_type": "code",
   "execution_count": 5,
   "id": "5e5ff10e",
   "metadata": {},
   "outputs": [
    {
     "data": {
      "text/plain": [
       "LinearRegression()"
      ]
     },
     "execution_count": 5,
     "metadata": {},
     "output_type": "execute_result"
    }
   ],
   "source": [
    "from sklearn.linear_model import LinearRegression\n",
    "regressor = LinearRegression()\n",
    "regressor.fit(X_train, y_train)#y=W*x1+b0 for this equation we got value for b1 and bo\n"
   ]
  },
  {
   "cell_type": "code",
   "execution_count": 6,
   "id": "a81caeef",
   "metadata": {},
   "outputs": [
    {
     "name": "stdout",
     "output_type": "stream",
     "text": [
      "Weight of the model=[31.22818271  2.16691435 -3.67117382  3.00747467 -1.92783592 -2.38499662\n",
      " 17.1415011   0.16954308  5.90378792]\n",
      "Intercept of the model=116.6895151335681\n"
     ]
    }
   ],
   "source": [
    "# Viewing the b1 and bo value\n",
    "weight=regressor.coef_\n",
    "print(\"Weight of the model={}\".format(weight))\n",
    "bais=regressor.intercept_\n",
    "print(\"Intercept of the model={}\".format(bais))"
   ]
  },
  {
   "cell_type": "code",
   "execution_count": 7,
   "id": "3aced110",
   "metadata": {},
   "outputs": [
    {
     "data": {
      "text/plain": [
       "30.473098628830975"
      ]
     },
     "execution_count": 7,
     "metadata": {},
     "output_type": "execute_result"
    }
   ],
   "source": [
    "y_pred=regressor.predict(X_test)\n",
    "from sklearn.metrics import mean_squared_error\n",
    "rmse=mean_squared_error(y_test, y_pred, squared=False)\n",
    "rmse"
   ]
  },
  {
   "cell_type": "code",
   "execution_count": null,
   "id": "539ce8ca",
   "metadata": {},
   "outputs": [],
   "source": []
  }
 ],
 "metadata": {
  "kernelspec": {
   "display_name": "Python 3",
   "language": "python",
   "name": "python3"
  },
  "language_info": {
   "codemirror_mode": {
    "name": "ipython",
    "version": 3
   },
   "file_extension": ".py",
   "mimetype": "text/x-python",
   "name": "python",
   "nbconvert_exporter": "python",
   "pygments_lexer": "ipython3",
   "version": "3.7.6"
  }
 },
 "nbformat": 4,
 "nbformat_minor": 5
}
